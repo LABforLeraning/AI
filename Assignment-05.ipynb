{
 "cells": [
  {
   "cell_type": "code",
   "execution_count": null,
   "metadata": {},
   "outputs": [],
   "source": [
    "# นี่เป็นข้อมูลของ : เกี่ยวกับการมีโรคหัวใจในผู้ป่วย\n",
    "# ใช้สำหรับการ : พยากรณ์ว่าผู้ป่วยเป็นโรคหัวใจหรือไม่\n",
    "# ได้มาจากแหล่งข้อมูลใด : https://archive.ics.uci.edu/dataset/45/heart+disease"
   ]
  }
 ],
 "metadata": {
  "language_info": {
   "name": "python"
  }
 },
 "nbformat": 4,
 "nbformat_minor": 2
}
