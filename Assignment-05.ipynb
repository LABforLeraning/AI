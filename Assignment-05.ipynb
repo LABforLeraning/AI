{
 "cells": [
  {
   "cell_type": "code",
   "execution_count": 1,
   "metadata": {},
   "outputs": [],
   "source": [
    "# นี่เป็นข้อมูลของ : เกี่ยวกับการมีโรคหัวใจในผู้ป่วย\n",
    "# ใช้สำหรับการ : พยากรณ์ว่าผู้ป่วยเป็นโรคหัวใจหรือไม่\n",
    "# ได้มาจากแหล่งข้อมูลใด : https://archive.ics.uci.edu/dataset/45/heart+disease"
   ]
  },
  {
   "cell_type": "code",
   "execution_count": 2,
   "metadata": {},
   "outputs": [],
   "source": [
    "# จำนวน sample ทั้งหมด : 294"
   ]
  },
  {
   "cell_type": "code",
   "execution_count": 3,
   "metadata": {},
   "outputs": [],
   "source": [
    "# จำนวน class ทั้งหมด : 2"
   ]
  },
  {
   "cell_type": "code",
   "execution_count": 4,
   "metadata": {},
   "outputs": [],
   "source": [
    "# ให้ทำการ plot ข้อมูลดังต่อไปนี้\n",
    "# 1. Plot relation for each feature in subplot (maximum 8 subplots)\n",
    "# 2. Plot relation of feature 1 and feature 2 in subplot (maximum 8 subplots)"
   ]
  },
  {
   "cell_type": "code",
   "execution_count": null,
   "metadata": {},
   "outputs": [],
   "source": [
    "import pandas\n",
    "columns = ['age','sex','cp','trestbps','chol','fbs','restecg','thalach','exang','oldpeak','slope','ca','thal','num']\n",
    "info = pandas.read_csv('heartdisease/processed.hungarian.data', header=None, names=columns)"
   ]
  }
 ],
 "metadata": {
  "kernelspec": {
   "display_name": "Python 3",
   "language": "python",
   "name": "python3"
  },
  "language_info": {
   "codemirror_mode": {
    "name": "ipython",
    "version": 3
   },
   "file_extension": ".py",
   "mimetype": "text/x-python",
   "name": "python",
   "nbconvert_exporter": "python",
   "pygments_lexer": "ipython3",
   "version": "3.11.7"
  }
 },
 "nbformat": 4,
 "nbformat_minor": 2
}
